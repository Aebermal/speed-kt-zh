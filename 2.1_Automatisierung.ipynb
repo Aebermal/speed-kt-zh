{
 "cells": [
  {
   "cell_type": "markdown",
   "id": "b995155c",
   "metadata": {},
   "source": [
    "# Automatisierte Erstellung der Files"
   ]
  },
  {
   "cell_type": "code",
   "execution_count": 29,
   "id": "cdaa2e90",
   "metadata": {},
   "outputs": [],
   "source": [
    "import requests\n",
    "import os\n",
    "import json\n",
    "import pandas as pd\n",
    "import geopandas as gpd\n",
    "import networkx as nx\n",
    "import osmnx as ox\n",
    "import numpy as np\n",
    "from shapely.geometry import Point, LineString, Polygon\n",
    "import matplotlib.patches as mpatches\n",
    "import matplotlib.pyplot as plt\n"
   ]
  },
  {
   "cell_type": "code",
   "execution_count": 54,
   "id": "d9863e41",
   "metadata": {},
   "outputs": [],
   "source": [
    "path = \"Daten/Move-Files\"\n",
    "path_Rosengarten = \"Daten/Move-Files/jobs_3068759_results_Rosengartenstrasse.json\"\n",
    "path_Wasserwerk = \"Daten/Move-Files/jobs_3074055_results_Wasserwerkstrasse.json\"\n",
    "path_Albisrieden = \"Daten/Move-Files/jobs_3074056_results_Albisrieden_.json\"\n"
   ]
  },
  {
   "cell_type": "code",
   "execution_count": 55,
   "id": "c3da4c11",
   "metadata": {},
   "outputs": [],
   "source": [
    "#for filename in os.listdir(\"Daten/Move-Files\"):\n",
    "#    if filename.endswith('.json'):\n",
    "#        with open(os.path.join(\"Daten/Move-Files\", filename)) as f:\n",
    "#            data = f.read()"
   ]
  },
  {
   "cell_type": "code",
   "execution_count": 56,
   "id": "623aafdd",
   "metadata": {},
   "outputs": [],
   "source": [
    "with open(path_Rosengarten) as f:\n",
    "    dataRosengarten = json.load(f)"
   ]
  },
  {
   "cell_type": "code",
   "execution_count": 57,
   "id": "b6f80149",
   "metadata": {},
   "outputs": [],
   "source": [
    "with open(path_Wasserwerk) as f:\n",
    "    dataWasserwerk = json.load(f)"
   ]
  },
  {
   "cell_type": "code",
   "execution_count": 58,
   "id": "21d466d0",
   "metadata": {},
   "outputs": [],
   "source": [
    "with open(path_Albisrieden) as f:\n",
    "    dataAlbisrieden = json.load(f)"
   ]
  },
  {
   "cell_type": "code",
   "execution_count": 59,
   "id": "6d45f1cb",
   "metadata": {},
   "outputs": [],
   "source": [
    "datas = [dataRosengarten, dataWasserwerk, dataAlbisrieden]"
   ]
  },
  {
   "cell_type": "code",
   "execution_count": 60,
   "id": "7ad436fb",
   "metadata": {},
   "outputs": [],
   "source": [
    "PERCENTILESIZE = 5 #Konstante (Variable)\n",
    "\n",
    "def getSpeedPercentage(percentileValues, minSpeed, maxSpeed): #Geschwindigkeitsperzentil, min Temp\n",
    "    minCounter = 0\n",
    "    maxCounter = 0\n",
    "    for percentileValue in percentileValues:\n",
    "        if percentileValue <= minSpeed:\n",
    "            minCounter = minCounter + 1\n",
    "        if percentileValue < maxSpeed:\n",
    "            maxCounter = maxCounter + 1\n",
    "    return (maxCounter - minCounter) * PERCENTILESIZE"
   ]
  },
  {
   "cell_type": "code",
   "execution_count": 61,
   "id": "42f551f0",
   "metadata": {},
   "outputs": [],
   "source": [
    "for data in datas:\n",
    "    for route in data[\"routes\"]:\n",
    "        for segment in route[\"segmentResults\"]:\n",
    "            speedLimit = segment[\"speedLimit\"]\n",
    "            for timeResult in segment[\"segmentTimeResults\"]:\n",
    "                timeResult[\"overspeed\"] = [{\n",
    "                    \"percentage\": getSpeedPercentage(timeResult[\"speedPercentiles\"], speedLimit + 0, speedLimit + 5),\n",
    "                    \"min\": speedLimit + 0,\n",
    "                    \"max\": speedLimit + 5},\n",
    "                    {\"percentage\": getSpeedPercentage(timeResult[\"speedPercentiles\"], speedLimit + 6, speedLimit + 10),\n",
    "                    \"min\": speedLimit + 6,\n",
    "                    \"max\": speedLimit + 10},\n",
    "                    {\"percentage\": getSpeedPercentage(timeResult[\"speedPercentiles\"], speedLimit + 11, speedLimit + 150),\n",
    "                    \"min\": speedLimit + 10,\n",
    "                    \"max\": speedLimit + 150}]"
   ]
  },
  {
   "cell_type": "code",
   "execution_count": 50,
   "id": "92e7a165",
   "metadata": {},
   "outputs": [],
   "source": [
    "NightSegments = []\n",
    "MorningSegments = []\n",
    "AfternoonSegments = []\n",
    "EveningSegments = []\n",
    "\n",
    "def getRouteSegmentData(route):\n",
    "    RouteData = {\n",
    "        \"routeName\": route[\"routeName\"],\n",
    "        \"timeSets\": {}\n",
    "    }\n",
    "    for segment in route[\"segmentResults\"]:\n",
    "        street = segment[\"streetName\"] if \"streetName\" in segment else \"\"\n",
    "        medianSpeed = segment[\"medianSpeed\"] if \"medianSpeed\" in segment else \"\"\n",
    "        speedLimit = segment[\"speedLimit\"]\n",
    "        shape = segment[\"shape\"]\n",
    "        for timeResult in segment[\"segmentTimeResults\"]:\n",
    "            NewSegment = {\n",
    "                 \"routeName\": route[\"routeName\"], \n",
    "                 \"street\": street,\n",
    "                 \"speedLimit\": speedLimit,\n",
    "                 \"shape\": shape, \n",
    "                 \"innerhalb Toleranz-Abzug\": timeResult[\"overspeed\"][0][\"percentage\"],\n",
    "                 \"min 5 km/h zu schnell\": timeResult[\"overspeed\"][1][\"percentage\"],\n",
    "                 \"min 10 km/h zu schnell\": timeResult[\"overspeed\"][2][\"percentage\"],\n",
    "                 \"insgesamt zu schnell\": timeResult[\"overspeed\"][0][\"percentage\"] + timeResult[\"overspeed\"][1][\"percentage\"] + timeResult[\"overspeed\"][2][\"percentage\"]\n",
    "            }\n",
    "            \n",
    "            if timeResult[\"timeSet\"] not in RouteData[\"timeSets\"]:\n",
    "                RouteData[\"timeSets\"][timeResult[\"timeSet\"]] = []\n",
    "            RouteData[\"timeSets\"][timeResult[\"timeSet\"]].append(NewSegment)\n",
    "\n",
    "\n",
    "    return RouteData"
   ]
  },
  {
   "cell_type": "code",
   "execution_count": 51,
   "id": "9b46a4da",
   "metadata": {},
   "outputs": [],
   "source": [
    "aWay = getRouteSegmentData(data[\"routes\"][0])\n",
    "bWay = getRouteSegmentData(data[\"routes\"][1])"
   ]
  },
  {
   "cell_type": "code",
   "execution_count": 64,
   "id": "e69077ae",
   "metadata": {},
   "outputs": [],
   "source": [
    "def coordinatesToPoints(dataFrame):\n",
    "    for index, entry in dataFrame.iterrows():\n",
    "        Points = []\n",
    "        Line = []\n",
    "        for coordinate in entry[\"shape\"]:\n",
    "            lat = coordinate[\"latitude\"]\n",
    "            long = coordinate[\"longitude\"]\n",
    "            newPoint = Point(long, lat)\n",
    "            Points.append(newPoint)\n",
    "        Line = LineString(Points)\n",
    "        dataFrame.at[index,\"geometry\"] = Line\n",
    "    NewFrame = dataFrame.drop(['shape'], axis=1)\n",
    "    return NewFrame"
   ]
  },
  {
   "cell_type": "code",
   "execution_count": 69,
   "id": "49996f9d",
   "metadata": {},
   "outputs": [],
   "source": [
    "OUTPATH=\"Daten/out\"\n",
    "routeDatas={}\n",
    "\n",
    "for data in datas:\n",
    "    for route in data[\"routes\"]:\n",
    "        routeData = getRouteSegmentData(route)\n",
    "        routeData[\"gdfs\"] = {}\n",
    "        for key, timeSet in routeData[\"timeSets\"].items():\n",
    "            dataFrame = pd.DataFrame(timeSet)\n",
    "            pointDf = coordinatesToPoints(dataFrame)\n",
    "            gdf = gpd.GeoDataFrame(pointDf, geometry=\"geometry\")\n",
    "            gdf = gdf.set_crs(epsg=4326)\n",
    "            routeData[\"gdfs\"][key] = gdf\n",
    "            gdf.to_file( OUTPAHT + \"/\" + routeData[\"routeName\"] + \"_\" + str(key) + \".geojson\", driver=\"GeoJSON\") \n",
    "        routeDatas[routeData[\"routeName\"]] = routeData\n"
   ]
  },
  {
   "cell_type": "code",
   "execution_count": null,
   "id": "14c664d5",
   "metadata": {},
   "outputs": [],
   "source": []
  },
  {
   "cell_type": "code",
   "execution_count": null,
   "id": "40cbfccc",
   "metadata": {},
   "outputs": [],
   "source": []
  },
  {
   "cell_type": "code",
   "execution_count": null,
   "id": "850e8ed0",
   "metadata": {},
   "outputs": [],
   "source": []
  }
 ],
 "metadata": {
  "kernelspec": {
   "display_name": "Python 3 (ipykernel)",
   "language": "python",
   "name": "python3"
  },
  "language_info": {
   "codemirror_mode": {
    "name": "ipython",
    "version": 3
   },
   "file_extension": ".py",
   "mimetype": "text/x-python",
   "name": "python",
   "nbconvert_exporter": "python",
   "pygments_lexer": "ipython3",
   "version": "3.9.13"
  }
 },
 "nbformat": 4,
 "nbformat_minor": 5
}
